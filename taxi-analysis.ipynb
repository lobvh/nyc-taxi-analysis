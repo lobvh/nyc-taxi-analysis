{
 "cells": [
  {
   "cell_type": "markdown",
   "id": "3527097b-b0f5-4c14-81eb-c9e4d6a67a90",
   "metadata": {
    "tags": []
   },
   "source": [
    "### Excercise #1\n",
    "\n",
    "Download the HVFHV data for february 2021:\n",
    "\n",
    "Repartition it to 24 partitions and save it to parquet.\n",
    "\n",
    "What's the size of the folder with results (in MB)?"
   ]
  },
  {
   "cell_type": "code",
   "execution_count": 1,
   "id": "465755a4-dbea-48bc-b915-df2c595549eb",
   "metadata": {},
   "outputs": [
    {
     "name": "stderr",
     "output_type": "stream",
     "text": [
      "WARNING: An illegal reflective access operation has occurred\n",
      "WARNING: Illegal reflective access by org.apache.spark.unsafe.Platform (file:/Users/goceovoono/opt/miniconda3/lib/python3.9/site-packages/pyspark/jars/spark-unsafe_2.12-3.2.1.jar) to constructor java.nio.DirectByteBuffer(long,int)\n",
      "WARNING: Please consider reporting this to the maintainers of org.apache.spark.unsafe.Platform\n",
      "WARNING: Use --illegal-access=warn to enable warnings of further illegal reflective access operations\n",
      "WARNING: All illegal access operations will be denied in a future release\n",
      "Using Spark's default log4j profile: org/apache/spark/log4j-defaults.properties\n",
      "Setting default log level to \"WARN\".\n",
      "To adjust logging level use sc.setLogLevel(newLevel). For SparkR, use setLogLevel(newLevel).\n",
      "22/04/19 10:52:40 WARN NativeCodeLoader: Unable to load native-hadoop library for your platform... using builtin-java classes where applicable\n"
     ]
    }
   ],
   "source": [
    "import pyspark\n",
    "\n",
    "from pyspark.sql import SparkSession\n",
    "\n",
    "ss = SparkSession.builder\\\n",
    "       .master(\"local[*]\")\\\n",
    "       .appName(\"test\")\\\n",
    "       .getOrCreate()"
   ]
  },
  {
   "cell_type": "code",
   "execution_count": 2,
   "id": "a21bd045-d839-4277-b704-34dee6ab3df2",
   "metadata": {},
   "outputs": [
    {
     "data": {
      "text/html": [
       "\n",
       "            <div>\n",
       "                <p><b>SparkSession - in-memory</b></p>\n",
       "                \n",
       "        <div>\n",
       "            <p><b>SparkContext</b></p>\n",
       "\n",
       "            <p><a href=\"http://gorans-mbp:4040\">Spark UI</a></p>\n",
       "\n",
       "            <dl>\n",
       "              <dt>Version</dt>\n",
       "                <dd><code>v3.2.1</code></dd>\n",
       "              <dt>Master</dt>\n",
       "                <dd><code>local[*]</code></dd>\n",
       "              <dt>AppName</dt>\n",
       "                <dd><code>test</code></dd>\n",
       "            </dl>\n",
       "        </div>\n",
       "        \n",
       "            </div>\n",
       "        "
      ],
      "text/plain": [
       "<pyspark.sql.session.SparkSession at 0x7f9f7b843d60>"
      ]
     },
     "execution_count": 2,
     "metadata": {},
     "output_type": "execute_result"
    }
   ],
   "source": [
    "ss"
   ]
  },
  {
   "cell_type": "code",
   "execution_count": 3,
   "id": "ff3e0180-a885-4f5a-91e5-643245762bd7",
   "metadata": {},
   "outputs": [
    {
     "name": "stdout",
     "output_type": "stream",
     "text": [
      "Untitled.ipynb             \u001b[1m\u001b[36mspark-warehouse\u001b[m\u001b[m\n",
      "\u001b[1m\u001b[36mfhvhv_tripdata\u001b[m\u001b[m             titanic-apache.ipynb\n",
      "fhvhv_tripdata_2021-02.csv\n"
     ]
    }
   ],
   "source": [
    "!ls"
   ]
  },
  {
   "cell_type": "code",
   "execution_count": 4,
   "id": "55447434-ca9f-490a-b9ce-1276bb1b1df0",
   "metadata": {},
   "outputs": [
    {
     "name": "stderr",
     "output_type": "stream",
     "text": [
      "                                                                                \r"
     ]
    }
   ],
   "source": [
    "taxi_df = ss.read.csv('fhvhv_tripdata_2021-02.csv', header = True, inferSchema = True)"
   ]
  },
  {
   "cell_type": "code",
   "execution_count": 5,
   "id": "0822ff5a-24b1-4eac-b27b-56464deaac5d",
   "metadata": {},
   "outputs": [
    {
     "name": "stdout",
     "output_type": "stream",
     "text": [
      "root\n",
      " |-- hvfhs_license_num: string (nullable = true)\n",
      " |-- dispatching_base_num: string (nullable = true)\n",
      " |-- pickup_datetime: string (nullable = true)\n",
      " |-- dropoff_datetime: string (nullable = true)\n",
      " |-- PULocationID: integer (nullable = true)\n",
      " |-- DOLocationID: integer (nullable = true)\n",
      " |-- SR_Flag: integer (nullable = true)\n",
      "\n"
     ]
    }
   ],
   "source": [
    "taxi_df.printSchema()"
   ]
  },
  {
   "cell_type": "code",
   "execution_count": 6,
   "id": "7ba5dbd4-ccd5-4e7f-8113-e6c14e568ac1",
   "metadata": {},
   "outputs": [
    {
     "data": {
      "text/plain": [
       "StructType(List(StructField(hvfhs_license_num,StringType,true),StructField(dispatching_base_num,StringType,true),StructField(pickup_datetime,StringType,true),StructField(dropoff_datetime,StringType,true),StructField(PULocationID,IntegerType,true),StructField(DOLocationID,IntegerType,true),StructField(SR_Flag,IntegerType,true)))"
      ]
     },
     "execution_count": 6,
     "metadata": {},
     "output_type": "execute_result"
    }
   ],
   "source": [
    "taxi_df.schema"
   ]
  },
  {
   "cell_type": "code",
   "execution_count": 7,
   "id": "8d652b24-8ec2-49a9-a430-89d102d76afd",
   "metadata": {},
   "outputs": [],
   "source": [
    "from pyspark.sql import types\n",
    "\n",
    "schema = types.StructType([\n",
    "             types.StructField('hvfhs_license_num',types.StringType(),True),\n",
    "             types.StructField('dispatching_base_num',types.StringType(),True),\n",
    "             types.StructField('pickup_datetime',types.TimestampType(),True),\n",
    "             types.StructField('dropoff_datetime',types.TimestampType(),True),\n",
    "             types.StructField('PULocationID',types.IntegerType(),True),\n",
    "             types.StructField('DOLocationID',types.IntegerType(),True),\n",
    "             types.StructField('SR_Flag',types.StringType(),True)\n",
    "                ])\n"
   ]
  },
  {
   "cell_type": "code",
   "execution_count": 8,
   "id": "f55bce83-49c0-418f-8f64-6ddb72c3fa12",
   "metadata": {},
   "outputs": [],
   "source": [
    "taxi_df = ss.read.csv('fhvhv_tripdata_2021-02.csv', header = True, schema = schema)"
   ]
  },
  {
   "cell_type": "code",
   "execution_count": 9,
   "id": "68658c92-d83f-4f0d-ab79-c92c01cefc3c",
   "metadata": {},
   "outputs": [
    {
     "name": "stdout",
     "output_type": "stream",
     "text": [
      "root\n",
      " |-- hvfhs_license_num: string (nullable = true)\n",
      " |-- dispatching_base_num: string (nullable = true)\n",
      " |-- pickup_datetime: timestamp (nullable = true)\n",
      " |-- dropoff_datetime: timestamp (nullable = true)\n",
      " |-- PULocationID: integer (nullable = true)\n",
      " |-- DOLocationID: integer (nullable = true)\n",
      " |-- SR_Flag: string (nullable = true)\n",
      "\n"
     ]
    }
   ],
   "source": [
    "taxi_df.printSchema()"
   ]
  },
  {
   "cell_type": "code",
   "execution_count": 10,
   "id": "e921a0f7-b0b5-485c-9886-3b4c1489372d",
   "metadata": {},
   "outputs": [],
   "source": [
    "taxi_df = taxi_df.repartition(24)"
   ]
  },
  {
   "cell_type": "code",
   "execution_count": 11,
   "id": "387d46d2-d50a-424f-835c-2c835cc84fc2",
   "metadata": {},
   "outputs": [
    {
     "name": "stderr",
     "output_type": "stream",
     "text": [
      "22/04/19 10:54:16 WARN MemoryManager: Total allocation exceeds 95.00% (1,020,054,720 bytes) of heap memory\n",
      "Scaling row group sizes to 95.00% for 8 writers\n",
      "22/04/19 10:54:16 WARN MemoryManager: Total allocation exceeds 95.00% (1,020,054,720 bytes) of heap memory\n",
      "Scaling row group sizes to 84.44% for 9 writers\n",
      "22/04/19 10:54:16 WARN MemoryManager: Total allocation exceeds 95.00% (1,020,054,720 bytes) of heap memory\n",
      "Scaling row group sizes to 76.00% for 10 writers\n",
      "22/04/19 10:54:16 WARN MemoryManager: Total allocation exceeds 95.00% (1,020,054,720 bytes) of heap memory\n",
      "Scaling row group sizes to 69.09% for 11 writers\n",
      "22/04/19 10:54:16 WARN MemoryManager: Total allocation exceeds 95.00% (1,020,054,720 bytes) of heap memory\n",
      "Scaling row group sizes to 63.33% for 12 writers\n",
      "22/04/19 10:54:19 WARN MemoryManager: Total allocation exceeds 95.00% (1,020,054,720 bytes) of heap memory\n",
      "Scaling row group sizes to 69.09% for 11 writers\n",
      "22/04/19 10:54:19 WARN MemoryManager: Total allocation exceeds 95.00% (1,020,054,720 bytes) of heap memory\n",
      "Scaling row group sizes to 76.00% for 10 writers\n",
      "22/04/19 10:54:19 WARN MemoryManager: Total allocation exceeds 95.00% (1,020,054,720 bytes) of heap memory\n",
      "Scaling row group sizes to 84.44% for 9 writers\n",
      "22/04/19 10:54:19 WARN MemoryManager: Total allocation exceeds 95.00% (1,020,054,720 bytes) of heap memory\n",
      "Scaling row group sizes to 95.00% for 8 writers\n",
      "22/04/19 10:54:19 WARN MemoryManager: Total allocation exceeds 95.00% (1,020,054,720 bytes) of heap memory\n",
      "Scaling row group sizes to 95.00% for 8 writers\n",
      "22/04/19 10:54:19 WARN MemoryManager: Total allocation exceeds 95.00% (1,020,054,720 bytes) of heap memory\n",
      "Scaling row group sizes to 84.44% for 9 writers\n",
      "22/04/19 10:54:19 WARN MemoryManager: Total allocation exceeds 95.00% (1,020,054,720 bytes) of heap memory\n",
      "Scaling row group sizes to 76.00% for 10 writers\n",
      "22/04/19 10:54:19 WARN MemoryManager: Total allocation exceeds 95.00% (1,020,054,720 bytes) of heap memory\n",
      "Scaling row group sizes to 69.09% for 11 writers\n",
      "22/04/19 10:54:19 WARN MemoryManager: Total allocation exceeds 95.00% (1,020,054,720 bytes) of heap memory\n",
      "Scaling row group sizes to 63.33% for 12 writers\n",
      "22/04/19 10:54:21 WARN MemoryManager: Total allocation exceeds 95.00% (1,020,054,720 bytes) of heap memory\n",
      "Scaling row group sizes to 69.09% for 11 writers\n",
      "22/04/19 10:54:21 WARN MemoryManager: Total allocation exceeds 95.00% (1,020,054,720 bytes) of heap memory\n",
      "Scaling row group sizes to 76.00% for 10 writers\n",
      "22/04/19 10:54:21 WARN MemoryManager: Total allocation exceeds 95.00% (1,020,054,720 bytes) of heap memory\n",
      "Scaling row group sizes to 84.44% for 9 writers\n",
      "22/04/19 10:54:21 WARN MemoryManager: Total allocation exceeds 95.00% (1,020,054,720 bytes) of heap memory\n",
      "Scaling row group sizes to 95.00% for 8 writers\n",
      "                                                                                \r"
     ]
    }
   ],
   "source": [
    "taxi_df.write.parquet('fhvhv_tripdata/2021-02', mode = 'overwrite')"
   ]
  },
  {
   "cell_type": "code",
   "execution_count": 12,
   "id": "6fc94d95-9b45-43af-8948-1cf33f51f00a",
   "metadata": {},
   "outputs": [
    {
     "name": "stdout",
     "output_type": "stream",
     "text": [
      "total 445440\n",
      "-rw-r--r--  1 goceovoono  staff     0B Apr 19 10:54 _SUCCESS\n",
      "-rw-r--r--  1 goceovoono  staff   8.5M Apr 19 10:54 part-00000-b26ccb90-4377-49d3-8fb6-ea06273ed48b-c000.snappy.parquet\n",
      "-rw-r--r--  1 goceovoono  staff   8.4M Apr 19 10:54 part-00001-b26ccb90-4377-49d3-8fb6-ea06273ed48b-c000.snappy.parquet\n",
      "-rw-r--r--  1 goceovoono  staff   8.5M Apr 19 10:54 part-00002-b26ccb90-4377-49d3-8fb6-ea06273ed48b-c000.snappy.parquet\n",
      "-rw-r--r--  1 goceovoono  staff   8.5M Apr 19 10:54 part-00003-b26ccb90-4377-49d3-8fb6-ea06273ed48b-c000.snappy.parquet\n",
      "-rw-r--r--  1 goceovoono  staff   8.5M Apr 19 10:54 part-00004-b26ccb90-4377-49d3-8fb6-ea06273ed48b-c000.snappy.parquet\n",
      "-rw-r--r--  1 goceovoono  staff   8.4M Apr 19 10:54 part-00005-b26ccb90-4377-49d3-8fb6-ea06273ed48b-c000.snappy.parquet\n",
      "-rw-r--r--  1 goceovoono  staff   8.5M Apr 19 10:54 part-00006-b26ccb90-4377-49d3-8fb6-ea06273ed48b-c000.snappy.parquet\n",
      "-rw-r--r--  1 goceovoono  staff   8.5M Apr 19 10:54 part-00007-b26ccb90-4377-49d3-8fb6-ea06273ed48b-c000.snappy.parquet\n",
      "-rw-r--r--  1 goceovoono  staff   8.5M Apr 19 10:54 part-00008-b26ccb90-4377-49d3-8fb6-ea06273ed48b-c000.snappy.parquet\n",
      "-rw-r--r--  1 goceovoono  staff   8.5M Apr 19 10:54 part-00009-b26ccb90-4377-49d3-8fb6-ea06273ed48b-c000.snappy.parquet\n",
      "-rw-r--r--  1 goceovoono  staff   8.5M Apr 19 10:54 part-00010-b26ccb90-4377-49d3-8fb6-ea06273ed48b-c000.snappy.parquet\n",
      "-rw-r--r--  1 goceovoono  staff   8.5M Apr 19 10:54 part-00011-b26ccb90-4377-49d3-8fb6-ea06273ed48b-c000.snappy.parquet\n",
      "-rw-r--r--  1 goceovoono  staff   8.5M Apr 19 10:54 part-00012-b26ccb90-4377-49d3-8fb6-ea06273ed48b-c000.snappy.parquet\n",
      "-rw-r--r--  1 goceovoono  staff   8.5M Apr 19 10:54 part-00013-b26ccb90-4377-49d3-8fb6-ea06273ed48b-c000.snappy.parquet\n",
      "-rw-r--r--  1 goceovoono  staff   8.5M Apr 19 10:54 part-00014-b26ccb90-4377-49d3-8fb6-ea06273ed48b-c000.snappy.parquet\n",
      "-rw-r--r--  1 goceovoono  staff   8.5M Apr 19 10:54 part-00015-b26ccb90-4377-49d3-8fb6-ea06273ed48b-c000.snappy.parquet\n",
      "-rw-r--r--  1 goceovoono  staff   8.5M Apr 19 10:54 part-00016-b26ccb90-4377-49d3-8fb6-ea06273ed48b-c000.snappy.parquet\n",
      "-rw-r--r--  1 goceovoono  staff   8.5M Apr 19 10:54 part-00017-b26ccb90-4377-49d3-8fb6-ea06273ed48b-c000.snappy.parquet\n",
      "-rw-r--r--  1 goceovoono  staff   8.5M Apr 19 10:54 part-00018-b26ccb90-4377-49d3-8fb6-ea06273ed48b-c000.snappy.parquet\n",
      "-rw-r--r--  1 goceovoono  staff   8.5M Apr 19 10:54 part-00019-b26ccb90-4377-49d3-8fb6-ea06273ed48b-c000.snappy.parquet\n",
      "-rw-r--r--  1 goceovoono  staff   8.5M Apr 19 10:54 part-00020-b26ccb90-4377-49d3-8fb6-ea06273ed48b-c000.snappy.parquet\n",
      "-rw-r--r--  1 goceovoono  staff   8.5M Apr 19 10:54 part-00021-b26ccb90-4377-49d3-8fb6-ea06273ed48b-c000.snappy.parquet\n",
      "-rw-r--r--  1 goceovoono  staff   8.5M Apr 19 10:54 part-00022-b26ccb90-4377-49d3-8fb6-ea06273ed48b-c000.snappy.parquet\n",
      "-rw-r--r--  1 goceovoono  staff   8.5M Apr 19 10:54 part-00023-b26ccb90-4377-49d3-8fb6-ea06273ed48b-c000.snappy.parquet\n"
     ]
    }
   ],
   "source": [
    "!ls -lh 'fhvhv_tripdata/2021-02'"
   ]
  },
  {
   "cell_type": "code",
   "execution_count": 13,
   "id": "d900ddb9-c1d8-4158-94bf-148e069615fe",
   "metadata": {},
   "outputs": [
    {
     "name": "stdout",
     "output_type": "stream",
     "text": [
      "      26\n"
     ]
    }
   ],
   "source": [
    "!ls -lh 'fhvhv_tripdata/2021-02' | wc -l"
   ]
  },
  {
   "cell_type": "code",
   "execution_count": 413,
   "id": "bff5469c-aa0d-4fab-acbd-697754e56943",
   "metadata": {},
   "outputs": [],
   "source": [
    "#Without \"total 445440\" line\n",
    "#and \n",
    "#semantic file \"-rw-r--r--  1 goceovoono  staff   0B Apr 18 14:41 _SUCCESS\" line\n",
    "#we would obtain 24 partitions."
   ]
  },
  {
   "cell_type": "code",
   "execution_count": 15,
   "id": "100bed1b-8f2e-405a-a7a1-805789f7c489",
   "metadata": {},
   "outputs": [
    {
     "name": "stderr",
     "output_type": "stream",
     "text": [
      "[Stage 5:===================>                                      (4 + 8) / 12]\r"
     ]
    },
    {
     "name": "stdout",
     "output_type": "stream",
     "text": [
      "+-----------------+--------------------+-------------------+-------------------+------------+------------+-------+\n",
      "|hvfhs_license_num|dispatching_base_num|    pickup_datetime|   dropoff_datetime|PULocationID|DOLocationID|SR_Flag|\n",
      "+-----------------+--------------------+-------------------+-------------------+------------+------------+-------+\n",
      "|           HV0003|              B02765|2021-02-03 17:39:48|2021-02-03 17:52:42|          22|          14|   null|\n",
      "|           HV0005|              B02510|2021-02-03 20:43:11|2021-02-03 20:51:17|         138|           7|   null|\n",
      "|           HV0003|              B02395|2021-02-03 07:51:10|2021-02-03 08:00:48|         213|         242|   null|\n",
      "|           HV0005|              B02510|2021-02-02 20:50:42|2021-02-02 20:55:07|          63|          63|   null|\n",
      "|           HV0003|              B02869|2021-02-01 00:59:41|2021-02-01 01:14:00|          32|          94|   null|\n",
      "+-----------------+--------------------+-------------------+-------------------+------------+------------+-------+\n",
      "only showing top 5 rows\n",
      "\n"
     ]
    },
    {
     "name": "stderr",
     "output_type": "stream",
     "text": [
      "                                                                                \r"
     ]
    }
   ],
   "source": [
    "taxi_df.show(5)"
   ]
  },
  {
   "cell_type": "code",
   "execution_count": 16,
   "id": "b0a526d2-cb60-472f-b8a6-d076e36368bd",
   "metadata": {},
   "outputs": [],
   "source": [
    "taxi_df = ss.read.parquet('fhvhv_tripdata/2021-02')"
   ]
  },
  {
   "cell_type": "code",
   "execution_count": 17,
   "id": "bad9edb4-8803-41e2-809c-477f705672df",
   "metadata": {},
   "outputs": [
    {
     "name": "stdout",
     "output_type": "stream",
     "text": [
      "+-----------------+--------------------+-------------------+-------------------+------------+------------+-------+\n",
      "|hvfhs_license_num|dispatching_base_num|    pickup_datetime|   dropoff_datetime|PULocationID|DOLocationID|SR_Flag|\n",
      "+-----------------+--------------------+-------------------+-------------------+------------+------------+-------+\n",
      "|           HV0003|              B02864|2021-02-04 02:19:32|2021-02-04 02:30:59|          20|         220|   null|\n",
      "|           HV0003|              B02887|2021-02-02 14:23:12|2021-02-02 14:44:21|          61|          95|   null|\n",
      "|           HV0005|              B02510|2021-02-01 01:32:24|2021-02-01 01:54:28|          41|         186|   null|\n",
      "|           HV0005|              B02510|2021-02-03 13:17:38|2021-02-03 13:24:43|         198|         160|   null|\n",
      "|           HV0005|              B02510|2021-02-03 08:17:43|2021-02-03 08:43:33|         140|          68|   null|\n",
      "+-----------------+--------------------+-------------------+-------------------+------------+------------+-------+\n",
      "only showing top 5 rows\n",
      "\n"
     ]
    }
   ],
   "source": [
    "taxi_df.show(5)"
   ]
  },
  {
   "cell_type": "code",
   "execution_count": 18,
   "id": "ffd0996b-f886-4e49-9f0c-4f5818ab8074",
   "metadata": {},
   "outputs": [
    {
     "name": "stderr",
     "output_type": "stream",
     "text": [
      "[Stage 10:===================>                                     (4 + 8) / 12]\r"
     ]
    },
    {
     "data": {
      "text/plain": [
       "24"
      ]
     },
     "execution_count": 18,
     "metadata": {},
     "output_type": "execute_result"
    }
   ],
   "source": [
    "taxi_df.repartition(24).rdd.getNumPartitions()"
   ]
  },
  {
   "cell_type": "code",
   "execution_count": 19,
   "id": "06b2498a-bbbe-40f0-b45c-41441a7d461a",
   "metadata": {},
   "outputs": [],
   "source": [
    "from pyspark.sql import functions as F #Following the convention to distinguish between Python and Spark functions"
   ]
  },
  {
   "cell_type": "code",
   "execution_count": 20,
   "id": "6307cca5-3b24-4447-a918-e05cc8eb533f",
   "metadata": {},
   "outputs": [],
   "source": [
    "taxi_df = taxi_df \\\n",
    "         .withColumn('pickup_datetime', F.to_date(taxi_df.pickup_datetime)) \\\n",
    "         .withColumn('dropoff_datetime', F.to_date(taxi_df.dropoff_datetime))"
   ]
  },
  {
   "cell_type": "markdown",
   "id": "0b3d5ea2-ec62-4157-97c9-b5deb4c45aea",
   "metadata": {
    "tags": []
   },
   "source": [
    "# Excercise 2\n",
    "\n",
    "How many taxi trips were there on February 15?\n",
    "\n",
    "Consider only trips that started on February 15."
   ]
  },
  {
   "cell_type": "code",
   "execution_count": 22,
   "id": "ac21912a-8620-4997-994e-af84e901d6f6",
   "metadata": {},
   "outputs": [],
   "source": [
    "taxi_df.createOrReplaceTempView(\"taxi_df_view\")"
   ]
  },
  {
   "cell_type": "code",
   "execution_count": 23,
   "id": "f3086539-0015-45da-a5e5-211aaa5dec78",
   "metadata": {},
   "outputs": [],
   "source": [
    "SQL_QUERY =  \"\"\"\n",
    "                SELECT COUNT(*) AS count_of_trips\n",
    "                FROM taxi_df_view\n",
    "                WHERE pickup_datetime = '2021-02-15'\n",
    "             \"\"\""
   ]
  },
  {
   "cell_type": "code",
   "execution_count": 24,
   "id": "33fc3202-b833-4424-9ebd-bb3d65a12413",
   "metadata": {},
   "outputs": [
    {
     "name": "stderr",
     "output_type": "stream",
     "text": [
      "[Stage 11:>                                                       (0 + 12) / 12]\r"
     ]
    },
    {
     "name": "stdout",
     "output_type": "stream",
     "text": [
      "+--------------+\n",
      "|count_of_trips|\n",
      "+--------------+\n",
      "|        367170|\n",
      "+--------------+\n",
      "\n"
     ]
    },
    {
     "name": "stderr",
     "output_type": "stream",
     "text": [
      "                                                                                \r"
     ]
    }
   ],
   "source": [
    "ss.sql(SQL_QUERY).show()"
   ]
  },
  {
   "cell_type": "markdown",
   "id": "552a9d2e-3557-4d82-b88b-c9b7b9961b1f",
   "metadata": {
    "tags": []
   },
   "source": [
    "# Excercise 3\n",
    "Now calculate the duration for each trip.\n",
    "\n",
    "Trip starting on which day was the longest?"
   ]
  },
  {
   "cell_type": "code",
   "execution_count": 25,
   "id": "b08f7492-7145-4c4f-b0a1-aa3ce967655f",
   "metadata": {},
   "outputs": [],
   "source": [
    "taxi_df = ss.read.parquet('fhvhv_tripdata/2021-02') "
   ]
  },
  {
   "cell_type": "code",
   "execution_count": 40,
   "id": "1d6bd3b6-0f0a-4446-85c8-2c6166b65e53",
   "metadata": {},
   "outputs": [
    {
     "name": "stdout",
     "output_type": "stream",
     "text": [
      "+-----------------+--------------------+-------------------+-------------------+------------+------------+-------+-------------+\n",
      "|hvfhs_license_num|dispatching_base_num|    pickup_datetime|   dropoff_datetime|PULocationID|DOLocationID|SR_Flag|trip_duration|\n",
      "+-----------------+--------------------+-------------------+-------------------+------------+------------+-------+-------------+\n",
      "|           HV0003|              B02864|2021-02-04 02:19:32|2021-02-04 02:30:59|          20|         220|   null|          687|\n",
      "+-----------------+--------------------+-------------------+-------------------+------------+------------+-------+-------------+\n",
      "only showing top 1 row\n",
      "\n"
     ]
    }
   ],
   "source": [
    "taxi_df = taxi_df \\\n",
    "          .withColumn('trip_duration', F.unix_timestamp(taxi_df.dropoff_datetime) -  F.unix_timestamp(taxi_df.pickup_datetime))\n",
    "taxi_df.show(1)"
   ]
  },
  {
   "cell_type": "code",
   "execution_count": 47,
   "id": "ff241730-5357-4db8-8e86-634700809bda",
   "metadata": {},
   "outputs": [
    {
     "name": "stderr",
     "output_type": "stream",
     "text": [
      "[Stage 24:>                                                       (0 + 12) / 12]\r"
     ]
    },
    {
     "name": "stdout",
     "output_type": "stream",
     "text": [
      "+-----------------+--------------------+-------------------+-------------------+------------+------------+-------+-----------------------+\n",
      "|hvfhs_license_num|dispatching_base_num|    pickup_datetime|   dropoff_datetime|PULocationID|DOLocationID|SR_Flag|trip_duration (seconds)|\n",
      "+-----------------+--------------------+-------------------+-------------------+------------+------------+-------+-----------------------+\n",
      "|           HV0005|              B02510|2021-02-11 13:40:44|2021-02-12 10:39:44|         247|          41|   null|                  75540|\n",
      "+-----------------+--------------------+-------------------+-------------------+------------+------------+-------+-----------------------+\n",
      "only showing top 1 row\n",
      "\n"
     ]
    },
    {
     "name": "stderr",
     "output_type": "stream",
     "text": [
      "                                                                                \r"
     ]
    }
   ],
   "source": [
    "taxi_df \\\n",
    "        .withColumnRenamed('trip_duration', 'trip_duration (seconds)') \\\n",
    "        .orderBy('trip_duration', ascending = False) \\\n",
    "        .show(1)"
   ]
  },
  {
   "cell_type": "code",
   "execution_count": 151,
   "id": "34b5f67a-2195-4fe6-b634-5333ca4d760f",
   "metadata": {},
   "outputs": [
    {
     "name": "stdout",
     "output_type": "stream",
     "text": [
      "Trip that started 2021-02-11 on 13:40:44 was the longest one and elapsed around ~20h.\n"
     ]
    }
   ],
   "source": [
    "print(f\"Trip that started 2021-02-11 on 13:40:44 was the longest one and elapsed around ~{int(75540/60/60)}h.\")"
   ]
  },
  {
   "cell_type": "markdown",
   "id": "964d57ff-8fdf-4fca-b4d4-e656f9e2e76f",
   "metadata": {
    "tags": []
   },
   "source": [
    "# Exercise 4\n",
    "Now find the most frequently occurring dispatching_base_num in this dataset."
   ]
  },
  {
   "cell_type": "code",
   "execution_count": 59,
   "id": "6c4add81-c4ed-4f55-9654-877625bb9798",
   "metadata": {},
   "outputs": [],
   "source": [
    "taxi_df.createOrReplaceTempView(\"taxi_df_view\")"
   ]
  },
  {
   "cell_type": "code",
   "execution_count": 70,
   "id": "aa7a814c-3726-47eb-8149-4d1fc77ee5ee",
   "metadata": {},
   "outputs": [],
   "source": [
    "SQL_QUERY = \"\"\"\n",
    "                SELECT dispatching_base_num, COUNT(1) AS frequency\n",
    "                FROM taxi_df_view\n",
    "                GROUP BY dispatching_base_num\n",
    "                ORDER BY frequency DESC\n",
    "                LIMIT 1\n",
    "            \"\"\""
   ]
  },
  {
   "cell_type": "code",
   "execution_count": 72,
   "id": "d55b328e-6859-4506-b56e-605f3e4871ff",
   "metadata": {},
   "outputs": [
    {
     "name": "stdout",
     "output_type": "stream",
     "text": [
      "+--------------------+---------+\n",
      "|dispatching_base_num|frequency|\n",
      "+--------------------+---------+\n",
      "|              B02510|  3233664|\n",
      "+--------------------+---------+\n",
      "\n"
     ]
    }
   ],
   "source": [
    "ss.sql(SQL_QUERY).show(5)"
   ]
  },
  {
   "cell_type": "markdown",
   "id": "8865dd36-4d5d-4823-a1b4-9627aa0fd77c",
   "metadata": {
    "tags": []
   },
   "source": [
    "# Excercise 5\n",
    "Find the most common pickup-dropoff pair.\n",
    "\n",
    "For example:\n",
    "\n",
    "\"Jamaica Bay / Clinton East\"\n",
    "\n",
    "Enter two zone names separated by a slash\n",
    "\n",
    "If any of the zone names are unknown (missing), use \"Unknown\". For example, \"Unknown / Clinton East\"."
   ]
  },
  {
   "cell_type": "code",
   "execution_count": 153,
   "id": "c54890ca-2a2b-4f33-ac9d-176ee467058d",
   "metadata": {},
   "outputs": [],
   "source": [
    "# Initial idea without 'fancy formating'"
   ]
  },
  {
   "cell_type": "code",
   "execution_count": 74,
   "id": "2bb479a8-0d8b-4615-98c6-d7581fcb2e00",
   "metadata": {},
   "outputs": [
    {
     "name": "stdout",
     "output_type": "stream",
     "text": [
      "Untitled.ipynb             \u001b[1m\u001b[36mspark-warehouse\u001b[m\u001b[m\n",
      "\u001b[1m\u001b[36mfhvhv_tripdata\u001b[m\u001b[m             titanic-apache.ipynb\n",
      "fhvhv_tripdata_2021-02.csv\n"
     ]
    }
   ],
   "source": [
    "!ls"
   ]
  },
  {
   "cell_type": "code",
   "execution_count": 75,
   "id": "aca72ed9-15db-49bc-9ee8-50cdcf23ccc4",
   "metadata": {},
   "outputs": [
    {
     "name": "stdout",
     "output_type": "stream",
     "text": [
      "--2022-04-19 12:19:13--  https://s3.amazonaws.com/nyc-tlc/misc/taxi+_zone_lookup.csv\n",
      "Resolving s3.amazonaws.com (s3.amazonaws.com)... 52.217.138.32\n",
      "Connecting to s3.amazonaws.com (s3.amazonaws.com)|52.217.138.32|:443... connected.\n",
      "HTTP request sent, awaiting response... 200 OK\n",
      "Length: 12322 (12K) [application/octet-stream]\n",
      "Saving to: ‘taxi+_zone_lookup.csv’\n",
      "\n",
      "taxi+_zone_lookup.c 100%[===================>]  12.03K  --.-KB/s    in 0.002s  \n",
      "\n",
      "2022-04-19 12:19:14 (5.33 MB/s) - ‘taxi+_zone_lookup.csv’ saved [12322/12322]\n",
      "\n"
     ]
    }
   ],
   "source": [
    "!wget https://s3.amazonaws.com/nyc-tlc/misc/taxi+_zone_lookup.csv"
   ]
  },
  {
   "cell_type": "code",
   "execution_count": 76,
   "id": "cf44b835-cf30-4b58-8647-adbf826fc633",
   "metadata": {},
   "outputs": [],
   "source": [
    "zone_lookup = ss.read.csv('taxi+_zone_lookup.csv', header = True, inferSchema = True)"
   ]
  },
  {
   "cell_type": "code",
   "execution_count": 77,
   "id": "ec91cf74-e0b2-44b4-b5a5-ce8603ec411b",
   "metadata": {},
   "outputs": [
    {
     "name": "stdout",
     "output_type": "stream",
     "text": [
      "root\n",
      " |-- LocationID: integer (nullable = true)\n",
      " |-- Borough: string (nullable = true)\n",
      " |-- Zone: string (nullable = true)\n",
      " |-- service_zone: string (nullable = true)\n",
      "\n"
     ]
    }
   ],
   "source": [
    "zone_lookup.printSchema()"
   ]
  },
  {
   "cell_type": "code",
   "execution_count": 78,
   "id": "81a81dd6-c44f-4a59-bbd3-c0c4e475ea2c",
   "metadata": {},
   "outputs": [
    {
     "name": "stdout",
     "output_type": "stream",
     "text": [
      "+----------+-------------+--------------------+------------+\n",
      "|LocationID|      Borough|                Zone|service_zone|\n",
      "+----------+-------------+--------------------+------------+\n",
      "|         1|          EWR|      Newark Airport|         EWR|\n",
      "|         2|       Queens|         Jamaica Bay|   Boro Zone|\n",
      "|         3|        Bronx|Allerton/Pelham G...|   Boro Zone|\n",
      "|         4|    Manhattan|       Alphabet City| Yellow Zone|\n",
      "|         5|Staten Island|       Arden Heights|   Boro Zone|\n",
      "+----------+-------------+--------------------+------------+\n",
      "only showing top 5 rows\n",
      "\n"
     ]
    }
   ],
   "source": [
    "zone_lookup.show(5)"
   ]
  },
  {
   "cell_type": "code",
   "execution_count": 79,
   "id": "588d328b-696c-453b-9ae4-c89f384b7744",
   "metadata": {},
   "outputs": [],
   "source": [
    "!mkdir zone_lookup"
   ]
  },
  {
   "cell_type": "code",
   "execution_count": 81,
   "id": "50cacce9-60eb-4acf-884e-45a38b15e89f",
   "metadata": {},
   "outputs": [],
   "source": [
    "zone_lookup.write.parquet('zone_lookup', mode = 'overwrite')"
   ]
  },
  {
   "cell_type": "code",
   "execution_count": 83,
   "id": "6e2fe2bf-fcfd-4671-9e7e-b39c1ff6c2a2",
   "metadata": {},
   "outputs": [
    {
     "name": "stdout",
     "output_type": "stream",
     "text": [
      "total 16\n",
      "-rw-r--r--  1 goceovoono  staff     0B Apr 19 12:24 _SUCCESS\n",
      "-rw-r--r--  1 goceovoono  staff   5.8K Apr 19 12:24 part-00000-4c7664f9-c093-4fa4-a409-5ac1a3c40725-c000.snappy.parquet\n"
     ]
    }
   ],
   "source": [
    "!ls -lh zone_lookup"
   ]
  },
  {
   "cell_type": "code",
   "execution_count": 84,
   "id": "a502badd-94db-48af-ba2d-8fcc3770a069",
   "metadata": {},
   "outputs": [],
   "source": [
    "zone_lookup = ss.read.parquet('zone_lookup')"
   ]
  },
  {
   "cell_type": "code",
   "execution_count": 85,
   "id": "7b364a66-2f57-4aaf-9561-e9475f4cdf88",
   "metadata": {},
   "outputs": [
    {
     "name": "stdout",
     "output_type": "stream",
     "text": [
      "+----------+-------------+--------------------+------------+\n",
      "|LocationID|      Borough|                Zone|service_zone|\n",
      "+----------+-------------+--------------------+------------+\n",
      "|         1|          EWR|      Newark Airport|         EWR|\n",
      "|         2|       Queens|         Jamaica Bay|   Boro Zone|\n",
      "|         3|        Bronx|Allerton/Pelham G...|   Boro Zone|\n",
      "|         4|    Manhattan|       Alphabet City| Yellow Zone|\n",
      "|         5|Staten Island|       Arden Heights|   Boro Zone|\n",
      "+----------+-------------+--------------------+------------+\n",
      "only showing top 5 rows\n",
      "\n"
     ]
    }
   ],
   "source": [
    "zone_lookup.show(5)"
   ]
  },
  {
   "cell_type": "code",
   "execution_count": 73,
   "id": "bb23a925-e49c-47ca-812f-88298c15b52a",
   "metadata": {},
   "outputs": [
    {
     "name": "stdout",
     "output_type": "stream",
     "text": [
      "+-----------------+--------------------+-------------------+-------------------+------------+------------+-------+-------------+\n",
      "|hvfhs_license_num|dispatching_base_num|    pickup_datetime|   dropoff_datetime|PULocationID|DOLocationID|SR_Flag|trip_duration|\n",
      "+-----------------+--------------------+-------------------+-------------------+------------+------------+-------+-------------+\n",
      "|           HV0003|              B02864|2021-02-04 02:19:32|2021-02-04 02:30:59|          20|         220|   null|          687|\n",
      "|           HV0003|              B02887|2021-02-02 14:23:12|2021-02-02 14:44:21|          61|          95|   null|         1269|\n",
      "|           HV0005|              B02510|2021-02-01 01:32:24|2021-02-01 01:54:28|          41|         186|   null|         1324|\n",
      "|           HV0005|              B02510|2021-02-03 13:17:38|2021-02-03 13:24:43|         198|         160|   null|          425|\n",
      "|           HV0005|              B02510|2021-02-03 08:17:43|2021-02-03 08:43:33|         140|          68|   null|         1550|\n",
      "+-----------------+--------------------+-------------------+-------------------+------------+------------+-------+-------------+\n",
      "only showing top 5 rows\n",
      "\n"
     ]
    }
   ],
   "source": [
    "taxi_df.show(5)"
   ]
  },
  {
   "cell_type": "code",
   "execution_count": 102,
   "id": "a0956e1c-7c1d-43f0-8ae4-2123dfac2b29",
   "metadata": {},
   "outputs": [],
   "source": [
    "SQL_QUERY = \"\"\"\n",
    "                SELECT PULocationID, DOLocationID, COUNT(1) AS frequency\n",
    "                FROM taxi_df_view\n",
    "                GROUP BY 1,2\n",
    "                ORDER BY frequency DESC\n",
    "            \"\"\""
   ]
  },
  {
   "cell_type": "code",
   "execution_count": 105,
   "id": "d5313e0c-66ef-4a54-ba88-541d89607017",
   "metadata": {},
   "outputs": [
    {
     "name": "stdout",
     "output_type": "stream",
     "text": [
      "+------------+------------+---------+\n",
      "|PULocationID|DOLocationID|frequency|\n",
      "+------------+------------+---------+\n",
      "|          76|          76|    45041|\n",
      "|          26|          26|    37329|\n",
      "|          39|          39|    28026|\n",
      "|          61|          61|    25976|\n",
      "|          14|          14|    17934|\n",
      "+------------+------------+---------+\n",
      "only showing top 5 rows\n",
      "\n"
     ]
    },
    {
     "name": "stderr",
     "output_type": "stream",
     "text": [
      "                                                                                \r"
     ]
    }
   ],
   "source": [
    "ss.sql(SQL_QUERY).show(5)"
   ]
  },
  {
   "cell_type": "code",
   "execution_count": 147,
   "id": "6d75e50b-c769-4d92-a146-6d0e0caa2e24",
   "metadata": {},
   "outputs": [
    {
     "name": "stdout",
     "output_type": "stream",
     "text": [
      "+----------+--------+-------------+------------+\n",
      "|LocationID| Borough|         Zone|service_zone|\n",
      "+----------+--------+-------------+------------+\n",
      "|        76|Brooklyn|East New York|   Boro Zone|\n",
      "+----------+--------+-------------+------------+\n",
      "\n"
     ]
    }
   ],
   "source": [
    "zone_lookup.select('*').where(zone_lookup.LocationID == 76).show()"
   ]
  },
  {
   "cell_type": "code",
   "execution_count": 164,
   "id": "0c813940-c380-46e3-ae59-a0595aca81d4",
   "metadata": {},
   "outputs": [],
   "source": [
    "target_zone = zone_lookup.select('*').where(zone_lookup.LocationID == 76).collect()[0][2]"
   ]
  },
  {
   "cell_type": "code",
   "execution_count": 165,
   "id": "585a45aa-ded9-42a4-90eb-9faa97ed08d4",
   "metadata": {},
   "outputs": [
    {
     "name": "stdout",
     "output_type": "stream",
     "text": [
      "The most common pickup-dropoff pair is East New York/East New York.\n"
     ]
    }
   ],
   "source": [
    "print(f'The most common pickup-dropoff pair is {target_zone}/{target_zone}.')"
   ]
  },
  {
   "cell_type": "code",
   "execution_count": null,
   "id": "cc137944-ffed-4696-aacf-95a9428369fd",
   "metadata": {},
   "outputs": [],
   "source": [
    "#Quick check if PULocationID == DOLocationID makes sense\n",
    "#First we will convert trip_duration to minutes for easier interpretation."
   ]
  },
  {
   "cell_type": "code",
   "execution_count": 133,
   "id": "b6197b75-cc2e-4f78-9953-cfbaa7e78f98",
   "metadata": {},
   "outputs": [],
   "source": [
    "from pyspark.types import IntegerType\n",
    "taxi_df = taxi_df \\\n",
    "            .withColumn('trip_duration', (taxi_df.trip_duration/60).cast(IntegerType())) \\\n",
    "            .withColumnRenamed('trip_duration', 'trip_duration (minutes)') \\\n",
    "            .orderBy('trip_duration', ascending = False)"
   ]
  },
  {
   "cell_type": "code",
   "execution_count": 134,
   "id": "1c4a8333-a0ec-4963-98d1-94bd7990f6a3",
   "metadata": {},
   "outputs": [
    {
     "name": "stderr",
     "output_type": "stream",
     "text": [
      "[Stage 85:>                                                       (0 + 12) / 12]\r"
     ]
    },
    {
     "name": "stdout",
     "output_type": "stream",
     "text": [
      "+-----------------+--------------------+-------------------+-------------------+------------+------------+-------+-----------------------+\n",
      "|hvfhs_license_num|dispatching_base_num|    pickup_datetime|   dropoff_datetime|PULocationID|DOLocationID|SR_Flag|trip_duration (minutes)|\n",
      "+-----------------+--------------------+-------------------+-------------------+------------+------------+-------+-----------------------+\n",
      "|           HV0005|              B02510|2021-02-11 13:40:44|2021-02-12 10:39:44|         247|          41|   null|                   1259|\n",
      "+-----------------+--------------------+-------------------+-------------------+------------+------------+-------+-----------------------+\n",
      "only showing top 1 row\n",
      "\n"
     ]
    },
    {
     "name": "stderr",
     "output_type": "stream",
     "text": [
      "                                                                                \r"
     ]
    }
   ],
   "source": [
    "taxi_df.show(1)"
   ]
  },
  {
   "cell_type": "code",
   "execution_count": 135,
   "id": "3d57061d-ee2a-4fa4-8837-951e87aff774",
   "metadata": {},
   "outputs": [],
   "source": [
    "taxi_df.createOrReplaceTempView(\"taxi_df_view\")"
   ]
  },
  {
   "cell_type": "code",
   "execution_count": null,
   "id": "f98e93fa-c757-494d-81a8-ab4ef8bcacd8",
   "metadata": {},
   "outputs": [],
   "source": [
    "#Checking all the trips in the same zone"
   ]
  },
  {
   "cell_type": "code",
   "execution_count": 154,
   "id": "12c831be-3926-489d-a33b-b4edc8823bc1",
   "metadata": {},
   "outputs": [],
   "source": [
    "SQL_QUERY = \"\"\"\n",
    "                SELECT *\n",
    "                FROM taxi_df_view\n",
    "                WHERE PULocationID = DOLocationID\n",
    "            \"\"\""
   ]
  },
  {
   "cell_type": "code",
   "execution_count": 137,
   "id": "474dba4d-bc5b-4e92-a3e1-4d2c592787cf",
   "metadata": {},
   "outputs": [
    {
     "name": "stderr",
     "output_type": "stream",
     "text": [
      "[Stage 86:>                                                       (0 + 12) / 12]\r"
     ]
    },
    {
     "name": "stdout",
     "output_type": "stream",
     "text": [
      "+-----------------+--------------------+-------------------+-------------------+------------+------------+-------+-----------------------+\n",
      "|hvfhs_license_num|dispatching_base_num|    pickup_datetime|   dropoff_datetime|PULocationID|DOLocationID|SR_Flag|trip_duration (minutes)|\n",
      "+-----------------+--------------------+-------------------+-------------------+------------+------------+-------+-----------------------+\n",
      "|           HV0005|              B02510|2021-02-21 19:59:13|2021-02-22 04:56:16|          10|          10|   null|                    537|\n",
      "|           HV0005|              B02510|2021-02-02 09:42:30|2021-02-02 18:17:43|          85|          85|   null|                    515|\n",
      "|           HV0005|              B02510|2021-02-12 06:16:42|2021-02-12 14:39:10|         205|         205|   null|                    502|\n",
      "|           HV0005|              B02510|2021-02-03 10:05:21|2021-02-03 17:57:04|          85|          85|   null|                    471|\n",
      "|           HV0003|              B02871|2021-02-22 17:31:29|2021-02-23 00:59:27|          64|          64|   null|                    447|\n",
      "|           HV0003|              B02882|2021-02-16 05:28:05|2021-02-16 12:32:06|          55|          55|   null|                    424|\n",
      "|           HV0003|              B02867|2021-02-20 18:31:00|2021-02-21 01:09:52|          64|          64|   null|                    398|\n",
      "|           HV0003|              B02764|2021-02-05 14:45:36|2021-02-05 20:48:03|         203|         203|   null|                    362|\n",
      "|           HV0003|              B02764|2021-02-05 09:44:27|2021-02-05 15:37:45|         229|         229|   null|                    353|\n",
      "|           HV0003|              B02884|2021-02-26 16:34:50|2021-02-26 22:22:23|         261|         261|   null|                    347|\n",
      "|           HV0003|              B02864|2021-02-01 02:27:40|2021-02-01 08:11:38|          86|          86|   null|                    343|\n",
      "|           HV0003|              B02872|2021-02-25 11:35:48|2021-02-25 17:17:16|         135|         135|   null|                    341|\n",
      "|           HV0003|              B02864|2021-02-24 13:20:32|2021-02-24 19:01:48|         229|         229|   null|                    341|\n",
      "|           HV0003|              B02880|2021-02-20 19:54:01|2021-02-21 01:28:47|         119|         119|   null|                    334|\n",
      "|           HV0003|              B02884|2021-02-11 12:28:49|2021-02-11 17:50:15|         164|         164|   null|                    321|\n",
      "|           HV0003|              B02617|2021-02-16 17:02:02|2021-02-16 22:13:23|         231|         231|   null|                    311|\n",
      "|           HV0003|              B02617|2021-02-08 05:12:40|2021-02-08 10:13:22|          35|          35|   null|                    300|\n",
      "|           HV0003|              B02867|2021-02-18 16:44:05|2021-02-18 21:40:25|         107|         107|   null|                    296|\n",
      "|           HV0005|              B02510|2021-02-19 22:44:04|2021-02-20 03:34:23|          89|          89|   null|                    290|\n",
      "|           HV0003|              B02879|2021-02-08 05:20:12|2021-02-08 09:59:52|          56|          56|   null|                    279|\n",
      "+-----------------+--------------------+-------------------+-------------------+------------+------------+-------+-----------------------+\n",
      "only showing top 20 rows\n",
      "\n"
     ]
    },
    {
     "name": "stderr",
     "output_type": "stream",
     "text": [
      "                                                                                \r"
     ]
    }
   ],
   "source": [
    "ss.sql(SQL_QUERY).show()"
   ]
  },
  {
   "cell_type": "markdown",
   "id": "1283bd8b-2a08-42cd-9611-25698a1e0b09",
   "metadata": {},
   "source": [
    "I'm not kind of 'grab a taxi' guy, but I think some of this data might have sense:\n",
    "\n",
    "1) A customer can 'churn' a taxi drive because many number of reasons (sudden phone call, not satisfied with the taxi-driever etc.).\n",
    "   That would explain some shorter trip durations and I think some reasonable trip_duration threshold is worth discussing. \n",
    "2) There might be some problems considering taxi cars/drivers that capture data such as dropoff_datetime.\n",
    "   That would explain some longer trip durations but further investigations should take place, and I'm safe to say that you can't deduce too much\n",
    "   by just using this dataset."
   ]
  },
  {
   "cell_type": "code",
   "execution_count": null,
   "id": "fef26f6b-caaa-49d9-8bf6-c1208ac9d2d1",
   "metadata": {},
   "outputs": [],
   "source": [
    "#Let's calculate the frequency of drives in the same zone per each taxi driver"
   ]
  },
  {
   "cell_type": "code",
   "execution_count": 168,
   "id": "8fae9f22-9e4f-4c79-b0be-b7123f426130",
   "metadata": {},
   "outputs": [],
   "source": [
    "SQL_QUERY = \"\"\"\n",
    "                SELECT hvfhs_license_num, COUNT(1) as frequency\n",
    "                FROM taxi_df_view\n",
    "                WHERE PULocationID = DOLocationID\n",
    "                GROUP BY hvfhs_license_num\n",
    "                ORDER BY frequency DESC\n",
    "            \"\"\""
   ]
  },
  {
   "cell_type": "code",
   "execution_count": 169,
   "id": "d162e49d-529f-489a-b09b-54f349c6e230",
   "metadata": {},
   "outputs": [
    {
     "name": "stdout",
     "output_type": "stream",
     "text": [
      "+-----------------+---------+\n",
      "|hvfhs_license_num|frequency|\n",
      "+-----------------+---------+\n",
      "|           HV0003|   648406|\n",
      "|           HV0005|   245014|\n",
      "|           HV0004|     2788|\n",
      "+-----------------+---------+\n",
      "\n"
     ]
    }
   ],
   "source": [
    "ss.sql(SQL_QUERY).show()"
   ]
  },
  {
   "cell_type": "markdown",
   "id": "00b262e4-2822-4ba9-82ed-42386707465a",
   "metadata": {},
   "source": [
    "Seems that out of all vehicles these 3 are the only ones in the dataset driving in the same zone.\n",
    "\n",
    "Let's investigate those a little further by considering average duration of trips in minutes and plotting their distributions.\n",
    "\n",
    "Be advised that this is only 'back of the enverlope' calculation since I've casted the trip_duration to integer values.\n",
    "\n",
    "NOTE: Not to be confused with the 'most common' pickup-dropoff pair since this query incorporates ALL the \"same zone\" trips. "
   ]
  },
  {
   "cell_type": "code",
   "execution_count": 201,
   "id": "3524fbc2-a0af-448e-a843-8351a96362ff",
   "metadata": {},
   "outputs": [],
   "source": [
    "taxi_df = taxi_df.withColumnRenamed('trip_duration (minutes)', 'trip_duration')\n",
    "taxi_df.createOrReplaceTempView(\"taxi_df_view\")"
   ]
  },
  {
   "cell_type": "code",
   "execution_count": 233,
   "id": "3c9a679f-4554-4367-8ab3-1eae8645221e",
   "metadata": {},
   "outputs": [],
   "source": [
    "#Average trip duration in minutes"
   ]
  },
  {
   "cell_type": "code",
   "execution_count": 312,
   "id": "a9752088-8634-4b35-987d-1f47d10531db",
   "metadata": {},
   "outputs": [],
   "source": [
    "SQL_QUERY = \"\"\"\n",
    "                SELECT hvfhs_license_num, ROUND(AVG(trip_duration), 3) AS average_trip_duration\n",
    "                FROM taxi_df_view\n",
    "                WHERE PULocationID = DOLocationID\n",
    "                GROUP BY hvfhs_license_num\n",
    "                ORDER BY hvfhs_license_num\n",
    "            \"\"\""
   ]
  },
  {
   "cell_type": "code",
   "execution_count": 313,
   "id": "6916bce5-e525-467e-90ee-9fd4693f7bae",
   "metadata": {},
   "outputs": [
    {
     "name": "stderr",
     "output_type": "stream",
     "text": [
      "[Stage 203:>                                                      (0 + 12) / 12]\r"
     ]
    },
    {
     "name": "stdout",
     "output_type": "stream",
     "text": [
      "+-----------------+---------------------+\n",
      "|hvfhs_license_num|average_trip_duration|\n",
      "+-----------------+---------------------+\n",
      "|           HV0003|                7.828|\n",
      "|           HV0004|                5.143|\n",
      "|           HV0005|                8.671|\n",
      "+-----------------+---------------------+\n",
      "\n"
     ]
    },
    {
     "name": "stderr",
     "output_type": "stream",
     "text": [
      "                                                                                \r"
     ]
    }
   ],
   "source": [
    "ss.sql(SQL_QUERY).show()"
   ]
  },
  {
   "cell_type": "code",
   "execution_count": 237,
   "id": "1b587020-b325-41b8-a5b2-37f2322bc92c",
   "metadata": {},
   "outputs": [],
   "source": [
    "#Visualizing distribution of trip_durations"
   ]
  },
  {
   "cell_type": "code",
   "execution_count": 238,
   "id": "1f09e779-0cf5-40ea-ad97-b92f1e26c6aa",
   "metadata": {},
   "outputs": [],
   "source": [
    "SQL_QUERY = \"\"\"\n",
    "                SELECT *\n",
    "                FROM taxi_df_view\n",
    "                WHERE PULocationID = DOLocationID\n",
    "            \"\"\""
   ]
  },
  {
   "cell_type": "code",
   "execution_count": 292,
   "id": "2e583958-2a36-45ec-914d-f458fef587b0",
   "metadata": {},
   "outputs": [],
   "source": [
    "same_zone = ss.sql(SQL_QUERY).select('hvfhs_license_num', 'trip_duration')"
   ]
  },
  {
   "cell_type": "markdown",
   "id": "78488c4f-7188-490b-aa08-8e756cabc03b",
   "metadata": {},
   "source": [
    "For a sake of showing the 'meat' of distribution we will exclude some data."
   ]
  },
  {
   "cell_type": "code",
   "execution_count": 350,
   "id": "0c4f2b90-4599-4725-b5eb-4b55cf76c931",
   "metadata": {},
   "outputs": [
    {
     "name": "stderr",
     "output_type": "stream",
     "text": [
      "                                                                                \r"
     ]
    }
   ],
   "source": [
    "#Let's calculate how many trips have duration is >30 minutes\n",
    "count_trip_duration_larger_than_30 = same_zone.where(same_zone.trip_duration > 30).count()"
   ]
  },
  {
   "cell_type": "code",
   "execution_count": 351,
   "id": "105da45e-a18e-482e-8b85-075adfbe472e",
   "metadata": {},
   "outputs": [
    {
     "data": {
      "text/plain": [
       "21939"
      ]
     },
     "execution_count": 351,
     "metadata": {},
     "output_type": "execute_result"
    }
   ],
   "source": [
    "count_trip_duration_larger_than_30"
   ]
  },
  {
   "cell_type": "code",
   "execution_count": 352,
   "id": "65d5985c-9e4e-4b30-ab19-c971ac28b49d",
   "metadata": {},
   "outputs": [
    {
     "name": "stdout",
     "output_type": "stream",
     "text": [
      "Percentage of data that will be excluded from the visualization 2.45%.\n"
     ]
    }
   ],
   "source": [
    "print(f'Percentage of data that will be excluded from the visualization {round((count_trip_duration_larger_than_30/same_zone.count())*100, 2)}%.')"
   ]
  },
  {
   "cell_type": "code",
   "execution_count": 355,
   "id": "d0dc4a6a-a2c4-49e1-a345-19be82470980",
   "metadata": {},
   "outputs": [],
   "source": [
    "import seaborn as sns\n",
    "import numpy as np\n",
    "from matplotlib import pyplot as plt"
   ]
  },
  {
   "cell_type": "code",
   "execution_count": 346,
   "id": "c9aeb918-61e4-422e-ab17-2e4bf580c6ca",
   "metadata": {},
   "outputs": [],
   "source": [
    "pandas_df = same_zone.toPandas()"
   ]
  },
  {
   "cell_type": "code",
   "execution_count": 411,
   "id": "08e5e177-cbf1-457c-ba81-b9309db303ee",
   "metadata": {},
   "outputs": [
    {
     "data": {
      "image/png": "[encoded data removed]",
      "text/plain": [
       "<Figure size 1080x360 with 3 Axes>"
      ]
     },
     "metadata": {
      "needs_background": "light"
     },
     "output_type": "display_data"
    }
   ],
   "source": [
    "sns.displot(pandas_df, x=\"trip_duration\", binwidth=1, col = 'hvfhs_license_num', common_norm = True)\n",
    "plt.xlim(0,30);"
   ]
  },
  {
   "cell_type": "code",
   "execution_count": 409,
   "id": "87085443-bf7e-4872-bb81-f8b492cb7011",
   "metadata": {},
   "outputs": [],
   "source": [
    "SQL_QUERY = \"\"\"\n",
    "                SELECT hvfhs_license_num, ROUND(AVG(trip_duration), 3) AS average_trip_duration\n",
    "                FROM taxi_df_view\n",
    "                WHERE PULocationID = DOLocationID\n",
    "                GROUP BY hvfhs_license_num\n",
    "                ORDER BY hvfhs_license_num\n",
    "            \"\"\""
   ]
  },
  {
   "cell_type": "code",
   "execution_count": 410,
   "id": "2aaec562-0f5d-4bc2-bbf3-cdc5b4ecc470",
   "metadata": {},
   "outputs": [
    {
     "name": "stderr",
     "output_type": "stream",
     "text": [
      "[Stage 289:>                                                      (0 + 12) / 12]\r"
     ]
    },
    {
     "name": "stdout",
     "output_type": "stream",
     "text": [
      "+-----------------+---------------------+\n",
      "|hvfhs_license_num|average_trip_duration|\n",
      "+-----------------+---------------------+\n",
      "|           HV0003|                7.828|\n",
      "|           HV0004|                5.143|\n",
      "|           HV0005|                8.671|\n",
      "+-----------------+---------------------+\n",
      "\n"
     ]
    },
    {
     "name": "stderr",
     "output_type": "stream",
     "text": [
      "                                                                                \r"
     ]
    }
   ],
   "source": [
    "ss.sql(SQL_QUERY).show()"
   ]
  },
  {
   "cell_type": "markdown",
   "id": "146f5b3a-868d-45b2-816e-afaf22710de7",
   "metadata": {
    "tags": []
   },
   "source": [
    "# CONCLUSION\n",
    "\n",
    "Distributions seem kind of positively skewed, and I'm guessing that if we got more data the same shape would be obtained for 'HV0004'. \n",
    "\n",
    "All of them have roughly the same average trip duration (especially HV0003 and HV0005) and all of them are 'gravitating' towards lower trip duration (skewed data). \n",
    "\n",
    "Based on the visualization, I'm guessing that most of the people who get to drive these taxi cabs would churn after ~10min of driving. \n",
    "\n",
    "Since these represent subset of dataset where pickup-dropoff pair is considered for the same zone, and we counted around 900k of such taxi trips FOR ONE MONTH I would be very concerned as someone who holds a taxi service.\n",
    "\n",
    "Further investigations to support the claim are needed."
   ]
  }
 ],
 "metadata": {
  "kernelspec": {
   "display_name": "Python 3 (ipykernel)",
   "language": "python",
   "name": "python3"
  },
  "language_info": {
   "codemirror_mode": {
    "name": "ipython",
    "version": 3
   },
   "file_extension": ".py",
   "mimetype": "text/x-python",
   "name": "python",
   "nbconvert_exporter": "python",
   "pygments_lexer": "ipython3",
   "version": "3.9.7"
  }
 },
 "nbformat": 4,
 "nbformat_minor": 5
}
